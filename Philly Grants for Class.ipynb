{
 "cells": [
  {
   "cell_type": "markdown",
   "metadata": {},
   "source": [
    "#- In Python, load this dataset into whatever data structures you feel are appropriate in order\n",
    " to create a Notebook which computes the following values for the school district of \n",
    " \"PHILADELPHIA CITY SD\"\n",
    " > Number of Schools :\n",
    " > Mean Funding Amount :\n",
    " > Standard Deviation of Funding Amount :\n",
    " > Minimum Funding Amount :\n",
    " > Maximum Funding Amount"
   ]
  },
  {
   "cell_type": "code",
   "execution_count": 1,
   "metadata": {},
   "outputs": [],
   "source": [
    "with open(\"datasets/userssharedsdfschoolimprovement2010grants.csv\", \"r\") as f:\n",
    "        data = f.readlines()"
   ]
  },
  {
   "cell_type": "code",
   "execution_count": 2,
   "metadata": {},
   "outputs": [
    {
     "data": {
      "text/plain": [
       "list"
      ]
     },
     "execution_count": 2,
     "metadata": {},
     "output_type": "execute_result"
    }
   ],
   "source": [
    "type(data)"
   ]
  },
  {
   "cell_type": "code",
   "execution_count": 3,
   "metadata": {},
   "outputs": [
    {
     "name": "stdout",
     "output_type": "stream",
     "text": [
      "831.0\n"
     ]
    }
   ],
   "source": [
    "##In this list there are three of information per school. There is one row, the first row, which describes each columns. ( len(data) - 1 / 3 ) therefore tells us how many schools there are.\n",
    "\n",
    "length = ( len(data) - 1 ) / 3\n",
    "print(length)"
   ]
  },
  {
   "cell_type": "code",
   "execution_count": 4,
   "metadata": {},
   "outputs": [
    {
     "data": {
      "text/plain": [
       "'School Name,City,State,District Name,2010/11/Award Amount,Model Selected,Location\\n'"
      ]
     },
     "execution_count": 4,
     "metadata": {},
     "output_type": "execute_result"
    }
   ],
   "source": [
    "data[0]"
   ]
  },
  {
   "cell_type": "code",
   "execution_count": 5,
   "metadata": {},
   "outputs": [],
   "source": [
    "records = []\n",
    "\n",
    "for part_1, part_2, part_3 in zip(data[1::3], data[2::3], data[3::3]):\n",
    "    record = (part_1 + part_2 + part_3)\n",
    "    record = record.replace(\"\\n\", \"\")\n",
    "    records.append(record)"
   ]
  },
  {
   "cell_type": "code",
   "execution_count": 6,
   "metadata": {},
   "outputs": [
    {
     "data": {
      "text/plain": [
       "831"
      ]
     },
     "execution_count": 6,
     "metadata": {},
     "output_type": "execute_result"
    }
   ],
   "source": [
    "## This confirms what we presumed in cell three.\n",
    "len(records)"
   ]
  },
  {
   "cell_type": "code",
   "execution_count": 7,
   "metadata": {},
   "outputs": [],
   "source": [
    "records = [ (x+y+z).replace(\"\\n\", \"\") for x,y,z in zip(data[1::3], data[2::3], data[3::3])] "
   ]
  },
  {
   "cell_type": "code",
   "execution_count": 8,
   "metadata": {},
   "outputs": [
    {
     "name": "stdout",
     "output_type": "stream",
     "text": [
      "['HOGARTH KINGEEKUK MEMORIAL SCHOOL', 'SAVOONGA', 'AK', 'BERING STRAIT SCHOOL DISTRICT', '$471014.00', 'Transformation', '\"200 MAIN STSAVOONGA', ' AK 99769(63.6687', ' -170.603)\"']\n",
      "['AKIACHAK SCHOOL', 'AKIACHAK', 'AK', 'YUPIIT SCHOOL DISTRICT', '$520579.00', 'Transformation', '\"AKIACHAK 51100AKIACHAK', ' AK 99551(60.8911', ' -161.376)\"']\n",
      "['GAMBELL SCHOOL', 'GAMBELL', 'AK', 'BERING STRAIT SCHOOL DISTRICT', '$449592.00', 'Transformation', '\"169 MAIN STGAMBELL', ' AK 99742(63.7413', ' -171.689)\"']\n",
      "['BURCHELL HIGH SCHOOL', 'WASILLA', 'AK', 'MATANUSKA-SUSITNA BOROUGH SCHOOL DISTRICT', '$641184.00', 'Transformation', '\"1775 WEST PARKS HWYWASILLA', ' AK 99654(61.5794', ' -149.495)\"']\n",
      "['AKIAK SCHOOL', 'AKIAK', 'AK', 'YUPIIT SCHOOL DISTRICT', '$399686.00', 'Transformation', '\"AKIAK 5227AKIAK', ' AK 99552(60.8879', ' -161.2)\"']\n",
      "['MIDVALLEY HIGH', 'WASILLA', 'AK', 'MATANUSKA-SUSITNA BOROUGH SCHOOL DISTRICT', '$697703.00', 'Restart', '\"7362 WEST PARKS HWY 725WASILLA', ' AK 99654(61.5023', ' -149.796)\"']\n",
      "['TULUKSAK SCHOOL', 'TULUKSAK', 'AK', 'YUPIIT SCHOOL DISTRICT', '$427658.00', 'Transformation', '\"TULUKSAK 115TULUKSAK', ' AK 99679(61.1001', ' -160.961)\"']\n",
      "['CAPITOL HEIGHTS JR HIGH SCH', 'MONTGOMERY', 'AL', 'MONTGOMERY COUNTY', '$110544.00', 'Transformation', '\"116 FEDERAL DRMONTGOMERY', ' AL 36107(32.3821', ' -86.2724)\"']\n",
      "['LOWNDES CO MIDDLE SCH', 'FORT DEPOSIT', 'AL', 'LOWNDES COUNTY', '$12973.00', 'Transformation', '\"510 MONTGOMERY STFORT DEPOSIT', ' AL 36032(31.9948', ' -86.5905)\"']\n",
      "['CENTRAL MIDDLE SCH', 'ROCKFORD', 'AL', 'COOSA COUNTY', '$199828.00', 'Transformation', '\"ROUTE 2BOX 65ROCKFORD', ' AL 35136(32.8928', ' -86.1552)\"']\n"
     ]
    }
   ],
   "source": [
    "for record in records[0:10]:\n",
    "    print(record.split(\",\"))"
   ]
  },
  {
   "cell_type": "code",
   "execution_count": 9,
   "metadata": {},
   "outputs": [
    {
     "name": "stdout",
     "output_type": "stream",
     "text": [
      "['SAYRE WILLIAM L MS', 'PHILADELPHIA', 'PA', 'PHILADELPHIA CITY SD', '$737032.00', 'Transformation', '\"5800 WALNUT STPHILADELPHIA', ' PA 19139(39.9584', ' -75.2375)\"']\n",
      "['KING MARTIN LUTHER HS', 'PHILADELPHIA', 'PA', 'PHILADELPHIA CITY SD', '$786964.00', 'Transformation', '\"6100 STENTON AVEPHILADELPHIA', ' PA 19138(40.0577', ' -75.1622)\"']\n",
      "['DOUGLAS STEPHEN A SCH', 'PHILADELPHIA', 'PA', 'PHILADELPHIA CITY SD', '$319320.00', 'Restart', '\"2700 EAST HUNTINGDON STPHILADELPHIA', ' PA 19125(39.9767', ' -75.1168)\"']\n",
      "['LOCKE ALAIN SCH', 'PHILADELPHIA', 'PA', 'PHILADELPHIA CITY SD', '$390938.00', 'Transformation', '\"4550 HAVERFORD AVEPHILADELPHIA', ' PA 19139(39.9625', ' -75.2136)\"']\n",
      "['ALCORN JAMES SCH', 'PHILADELPHIA', 'PA', 'PHILADELPHIA CITY SD', '$338726.00', 'Transformation', '\"3200 DICKINSON STPHILADELPHIA', ' PA 19146(39.9354', ' -75.1973)\"']\n",
      "['GERMANTOWN HS', 'PHILADELPHIA', 'PA', 'PHILADELPHIA CITY SD', '$798792.00', 'Transformation', '\"40 EAST HIGH STPHILADELPHIA', ' PA 19144(40.0401', ' -75.1769)\"']\n",
      "['ROXBOROUGH HS', 'PHILADELPHIA', 'PA', 'PHILADELPHIA CITY SD', '$641440.00', 'Transformation', '\"6498 RIDGE AVEPHILADELPHIA', ' PA 19128(40.0381', ' -75.2228)\"']\n",
      "['UNIVERSITY CITY HS', 'PHILADELPHIA', 'PA', 'PHILADELPHIA CITY SD', '$923999.00', 'Turnaround', '\"3601 FILBEROUTE STPHILADELPHIA', ' PA 19104(39.957', ' -75.1941)\"']\n",
      "['SMEDLEY FRANKLIN SCH', 'PHILADELPHIA', 'PA', 'PHILADELPHIA CITY SD', '$362773.00', 'Restart', '\"1790 BRIDGE STPHILADELPHIA', ' PA 19124(40.0198', ' -75.0735)\"']\n",
      "['WEST PHILADELPHIA HS', 'PHILADELPHIA', 'PA', 'PHILADELPHIA CITY SD', '$671142.00', 'Transformation', '\"4700 WALNUT STPHILADELPHIA', ' PA 19139(39.9557', ' -75.2157)\"']\n",
      "['HARRITY WILLIAM F SCH', 'PHILADELPHIA', 'PA', 'PHILADELPHIA CITY SD', '$980283.00', 'Restart', '\"5601 CHRISTIAN STPHILADELPHIA', ' PA 19143(39.9485', ' -75.2355)\"']\n",
      "['FRANKFORD HS', 'PHILADELPHIA', 'PA', 'PHILADELPHIA CITY SD', '$792001.00', 'Transformation', '\"5000 OXFORD AVEPHILADELPHIA', ' PA 19124(40.0225', ' -75.0845)\"']\n",
      "['VAUX ROBERTS HS', 'PHILADELPHIA', 'PA', 'PHILADELPHIA CITY SD', '$466665.00', 'Turnaround', '\"2300 WEST MASTER STPHILADELPHIA', ' PA 19121(39.9763', ' -75.1735)\"']\n",
      "['CLEMENTE ROBERTO MS', 'PHILADELPHIA', 'PA', 'PHILADELPHIA CITY SD', '$333327.00', 'Turnaround', '\"122 WEST ERIE AVEPHILADELPHIA', ' PA 19140(40.0074', ' -75.1283)\"']\n",
      "['FELS SAMUEL HS', 'PHILADELPHIA', 'PA', 'PHILADELPHIA CITY SD', '$974132.00', 'Transformation', '\"901 DEVEREAUX AVEPHILADELPHIA', ' PA 19111(40.0417', ' -75.0883)\"']\n",
      "['ALLEN DR ETHEL SCH', 'PHILADELPHIA', 'PA', 'PHILADELPHIA CITY SD', '$247020.00', 'Turnaround', '\"3200 WEST LEHIGH AVEPHILADELPHIA', ' PA 19132(39.9977', ' -75.1836)\"']\n",
      "['FELTONVILLE INTERMEDIATE SCHOOL', 'PHILADELPHIA', 'PA', 'PHILADELPHIA CITY SD', '$244855.00', 'Transformation', '\"4901 RISING SUN AVEPHILADELPHIA', ' PA 19120(40.0246', ' -75.1231)\"']\n",
      "['SOUTH PHILADELPHIA HS', 'PHILADELPHIA', 'PA', 'PHILADELPHIA CITY SD', '$579958.00', 'Transformation', '\"2101 SOUTH BRD STPHILADELPHIA', ' PA 19148(39.9244', ' -75.1697)\"']\n",
      "['OLNEY HS WEST', 'PHILADELPHIA', 'PA', 'PHILADELPHIA CITY SD', '$272245.00', 'Transformation', '\"100 WEST DUNCANNON AVEPHILADELPHIA', ' PA 19120(40.0292', ' -75.1228)\"']\n",
      "['EDISON HS/FAREIRA SKILLS', 'PHILADELPHIA', 'PA', 'PHILADELPHIA CITY SD', '$1.00', 'Transformation', '\"151 WEST LUZERNE STPHILADELPHIA', ' PA 19140(40.0111', ' -75.1286)\"']\n",
      "['STETSON JOHN B MS', 'PHILADELPHIA', 'PA', 'PHILADELPHIA CITY SD', '$888708.00', 'Restart', '\"3200 B STPHILADELPHIA', ' PA 19134(39.9981', ' -75.1254)\"']\n",
      "['DAROFF SAMUEL SCH', 'PHILADELPHIA', 'PA', 'PHILADELPHIA CITY SD', '$658247.00', 'Restart', '\"5630 VINE STPHILADELPHIA', ' PA 19139(39.9657', ' -75.2326)\"']\n",
      "['BLUFORD GUION EL SCH', 'PHILADELPHIA', 'PA', 'PHILADELPHIA CITY SD', '$907129.00', 'Restart', '\"5801 MEDIA STPHILADELPHIA', ' PA 19131(39.9748', ' -75.2366)\"']\n",
      "['CLYMER GEORGE SCH', 'PHILADELPHIA', 'PA', 'PHILADELPHIA CITY SD', '$392068.00', 'Transformation', '\"1201 WEST RUSH STPHILADELPHIA', ' PA 19133(39.9956', ' -75.1504)\"']\n",
      "['MANN WILLIAM B SCH', 'PHILADELPHIA', 'PA', 'PHILADELPHIA CITY SD', '$794021.00', 'Restart', '\"5376 WEST BERKS STPHILADELPHIA', ' PA 19131(39.986', ' -75.2314)\"']\n",
      "['GRATZ SIMON HS', 'PHILADELPHIA', 'PA', 'PHILADELPHIA CITY SD', '$508486.00', 'Transformation', '\"1798 WEST HUNTING PARK AVEPHILADELPHIA', ' PA 19140(40.0146', ' -75.1566)\"']\n",
      "['LINCOLN HS', 'PHILADELPHIA', 'PA', 'PHILADELPHIA CITY SD', '$14.00', 'Transformation', '\"3201 RYAN AVEPHILADELPHIA', ' PA 19136(40.0403', ' -75.0433)\"']\n"
     ]
    }
   ],
   "source": [
    "for record in records:\n",
    "    if \"PHILADELPHIA CITY SD\" in record:\n",
    "        print(record.split(\",\"))"
   ]
  },
  {
   "cell_type": "code",
   "execution_count": 10,
   "metadata": {},
   "outputs": [
    {
     "name": "stdout",
     "output_type": "stream",
     "text": [
      "SAYRE WILLIAM L MS 737032.0 Transformation\n",
      "KING MARTIN LUTHER HS 786964.0 Transformation\n",
      "DOUGLAS STEPHEN A SCH 319320.0 Restart\n",
      "LOCKE ALAIN SCH 390938.0 Transformation\n",
      "ALCORN JAMES SCH 338726.0 Transformation\n",
      "GERMANTOWN HS 798792.0 Transformation\n",
      "ROXBOROUGH HS 641440.0 Transformation\n",
      "UNIVERSITY CITY HS 923999.0 Turnaround\n",
      "SMEDLEY FRANKLIN SCH 362773.0 Restart\n",
      "WEST PHILADELPHIA HS 671142.0 Transformation\n",
      "HARRITY WILLIAM F SCH 980283.0 Restart\n",
      "FRANKFORD HS 792001.0 Transformation\n",
      "VAUX ROBERTS HS 466665.0 Turnaround\n",
      "CLEMENTE ROBERTO MS 333327.0 Turnaround\n",
      "FELS SAMUEL HS 974132.0 Transformation\n",
      "ALLEN DR ETHEL SCH 247020.0 Turnaround\n",
      "FELTONVILLE INTERMEDIATE SCHOOL 244855.0 Transformation\n",
      "SOUTH PHILADELPHIA HS 579958.0 Transformation\n",
      "OLNEY HS WEST 272245.0 Transformation\n",
      "EDISON HS/FAREIRA SKILLS 1.0 Transformation\n",
      "STETSON JOHN B MS 888708.0 Restart\n",
      "DAROFF SAMUEL SCH 658247.0 Restart\n",
      "BLUFORD GUION EL SCH 907129.0 Restart\n",
      "CLYMER GEORGE SCH 392068.0 Transformation\n",
      "MANN WILLIAM B SCH 794021.0 Restart\n",
      "GRATZ SIMON HS 508486.0 Transformation\n",
      "LINCOLN HS 14.0 Transformation\n"
     ]
    },
    {
     "data": {
      "text/plain": [
       "{'SCHOOL_NAME': ['SAYRE WILLIAM L MS',\n",
       "  'KING MARTIN LUTHER HS',\n",
       "  'DOUGLAS STEPHEN A SCH',\n",
       "  'LOCKE ALAIN SCH',\n",
       "  'ALCORN JAMES SCH',\n",
       "  'GERMANTOWN HS',\n",
       "  'ROXBOROUGH HS',\n",
       "  'UNIVERSITY CITY HS',\n",
       "  'SMEDLEY FRANKLIN SCH',\n",
       "  'WEST PHILADELPHIA HS',\n",
       "  'HARRITY WILLIAM F SCH',\n",
       "  'FRANKFORD HS',\n",
       "  'VAUX ROBERTS HS',\n",
       "  'CLEMENTE ROBERTO MS',\n",
       "  'FELS SAMUEL HS',\n",
       "  'ALLEN DR ETHEL SCH',\n",
       "  'FELTONVILLE INTERMEDIATE SCHOOL',\n",
       "  'SOUTH PHILADELPHIA HS',\n",
       "  'OLNEY HS WEST',\n",
       "  'EDISON HS/FAREIRA SKILLS',\n",
       "  'STETSON JOHN B MS',\n",
       "  'DAROFF SAMUEL SCH',\n",
       "  'BLUFORD GUION EL SCH',\n",
       "  'CLYMER GEORGE SCH',\n",
       "  'MANN WILLIAM B SCH',\n",
       "  'GRATZ SIMON HS',\n",
       "  'LINCOLN HS'],\n",
       " 'AMOUNT': [737032.0,\n",
       "  786964.0,\n",
       "  319320.0,\n",
       "  390938.0,\n",
       "  338726.0,\n",
       "  798792.0,\n",
       "  641440.0,\n",
       "  923999.0,\n",
       "  362773.0,\n",
       "  671142.0,\n",
       "  980283.0,\n",
       "  792001.0,\n",
       "  466665.0,\n",
       "  333327.0,\n",
       "  974132.0,\n",
       "  247020.0,\n",
       "  244855.0,\n",
       "  579958.0,\n",
       "  272245.0,\n",
       "  1.0,\n",
       "  888708.0,\n",
       "  658247.0,\n",
       "  907129.0,\n",
       "  392068.0,\n",
       "  794021.0,\n",
       "  508486.0,\n",
       "  14.0],\n",
       " 'MODEL': ['Transformation',\n",
       "  'Transformation',\n",
       "  'Restart',\n",
       "  'Transformation',\n",
       "  'Transformation',\n",
       "  'Transformation',\n",
       "  'Transformation',\n",
       "  'Turnaround',\n",
       "  'Restart',\n",
       "  'Transformation',\n",
       "  'Restart',\n",
       "  'Transformation',\n",
       "  'Turnaround',\n",
       "  'Turnaround',\n",
       "  'Transformation',\n",
       "  'Turnaround',\n",
       "  'Transformation',\n",
       "  'Transformation',\n",
       "  'Transformation',\n",
       "  'Transformation',\n",
       "  'Restart',\n",
       "  'Restart',\n",
       "  'Restart',\n",
       "  'Transformation',\n",
       "  'Restart',\n",
       "  'Transformation',\n",
       "  'Transformation']}"
      ]
     },
     "execution_count": 10,
     "metadata": {},
     "output_type": "execute_result"
    }
   ],
   "source": [
    "dataset = {\n",
    "    \"SCHOOL_NAME\": [],\n",
    "    \"AMOUNT\":      [],\n",
    "    \"MODEL\":       [],\n",
    "}\n",
    "\n",
    "for record in records:\n",
    "        if \"PHILADELPHIA CITY SD\" in record:\n",
    "                fields = record.split(\",\")\n",
    "                \n",
    "                school_name = fields[0]\n",
    "                amount      = float(fields[4][1:])\n",
    "                model       = fields[5]\n",
    "                \n",
    "                dataset[\"SCHOOL_NAME\"].append(school_name)\n",
    "                dataset[\"AMOUNT\"].append(amount)\n",
    "                dataset[\"MODEL\"].append(model)\n",
    "                \n",
    "                print(school_name, amount, model)\n",
    "\n",
    "dataset"
   ]
  },
  {
   "cell_type": "code",
   "execution_count": 11,
   "metadata": {},
   "outputs": [],
   "source": [
    "## Number of schools in the Philadelphia City SD (I used \"SCHOOL_NAME\" but technically any of them would've worked.)\n",
    "\n",
    "Schools = len(dataset[\"SCHOOL_NAME\"])"
   ]
  },
  {
   "cell_type": "code",
   "execution_count": 12,
   "metadata": {},
   "outputs": [],
   "source": [
    "## Min amount in the Philadelphia City SD\n",
    "##EDISON/HSFAREIRA SKILLS (Transformation)\n",
    "\n",
    "Min = min(dataset[\"AMOUNT\"])"
   ]
  },
  {
   "cell_type": "code",
   "execution_count": 13,
   "metadata": {},
   "outputs": [],
   "source": [
    "## Max amount in the Philadelphia City SD\n",
    "##HARRITY WILLIAM F SCH (Restart)\n",
    "\n",
    "Max = max(dataset[\"AMOUNT\"])"
   ]
  },
  {
   "cell_type": "code",
   "execution_count": 14,
   "metadata": {},
   "outputs": [],
   "source": [
    "## Mean Funding for Schools in the Philadelphia City SD\n",
    "\n",
    "avg = (sum(dataset[\"AMOUNT\"]) / (len(dataset[\"SCHOOL_NAME\"])))"
   ]
  },
  {
   "cell_type": "code",
   "execution_count": 15,
   "metadata": {},
   "outputs": [
    {
     "name": "stdout",
     "output_type": "stream",
     "text": [
      "[32795573413.009594, 53373697199.67626, 55987376835.824425, 27224511113.305904, 47180409355.08369, 58978784885.60219, 7310845345.454043, 135469990274.30588, 37312144886.454056, 13272302963.379967, 180069936345.7133, 55726439417.120705, 7969404018.602199, 49554997735.046646, 174887460731.5281, 95429415413.6022, 96771711163.7874, 577031572.5651567, 80480877679.34294, 309064300750.45404, 110736858887.37996, 10467434620.97256, 123336159049.1207, 26852891361.454052, 56684220322.305885, 2251551707.676271, 309049846595.9726]\n",
      "===\n",
      "[1.9375426009086383]\n"
     ]
    }
   ],
   "source": [
    "## Standard deviation\n",
    "\n",
    "for record in records:\n",
    "    if \"PHILADELPHIA CITY SD\" in record:\n",
    "                fields = record.split(\",\")\n",
    "## Subtracts the average from every amount in \"AMOUNT\" and then squares them.\n",
    "MeanAmountSquared1 = [(x - avg)**2 for x in dataset[\"AMOUNT\"]]\n",
    "\n",
    "print(MeanAmountSquared1)\n",
    "## Sums and averages out the squared means, square rooting it, thus giving us the standard deviation.\n",
    "StandardDeviation = [(sum(dataset[\"AMOUNT\"]) / len(dataset[\"SCHOOL_NAME\"]))**.05]\n",
    "print(\"===\")\n",
    "print(StandardDeviation)\n"
   ]
  },
  {
   "cell_type": "code",
   "execution_count": 16,
   "metadata": {},
   "outputs": [
    {
     "name": "stdout",
     "output_type": "stream",
     "text": [
      "In conclusion--\n",
      "===\n",
      "Number of Schools: 27\n",
      "Average Funding: 555936.5185185185\n",
      "Standard Deviation: [1.9375426009086383]\n",
      "Philidelphia Min: 1.0\n",
      "Philidelphia Max: 980283.0\n"
     ]
    }
   ],
   "source": [
    "print(\"In conclusion--\")\n",
    "print(\"===\")\n",
    "print(\"Number of Schools:\", Schools)\n",
    "print(\"Average Funding:\", avg)\n",
    "print(\"Standard Deviation:\", StandardDeviation)\n",
    "print(\"Philidelphia Min:\", Min)\n",
    "print(\"Philidelphia Max:\", Max)"
   ]
  },
  {
   "cell_type": "code",
   "execution_count": 17,
   "metadata": {},
   "outputs": [
    {
     "data": {
      "text/plain": [
       "list"
      ]
     },
     "execution_count": 17,
     "metadata": {},
     "output_type": "execute_result"
    }
   ],
   "source": [
    "type(StandardDeviation)"
   ]
  },
  {
   "cell_type": "code",
   "execution_count": null,
   "metadata": {},
   "outputs": [],
   "source": []
  }
 ],
 "metadata": {
  "kernelspec": {
   "display_name": "Python 3",
   "language": "python",
   "name": "python3"
  },
  "language_info": {
   "codemirror_mode": {
    "name": "ipython",
    "version": 3
   },
   "file_extension": ".py",
   "mimetype": "text/x-python",
   "name": "python",
   "nbconvert_exporter": "python",
   "pygments_lexer": "ipython3",
   "version": "3.6.5"
  }
 },
 "nbformat": 4,
 "nbformat_minor": 2
}
